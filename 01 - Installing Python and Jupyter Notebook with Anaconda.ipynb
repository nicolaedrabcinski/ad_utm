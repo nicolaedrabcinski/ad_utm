{
 "cells": [
  {
   "cell_type": "markdown",
   "metadata": {},
   "source": [
    "[(index)](00%20-%20-%20-%20Introduction%20-%20to%20-%20Python.ipynb) | [(next)](02%20-%20-%20-%20Python%20-%20basics.ipynb)\n",
    "\n",
    "# Installing Python and Jupyter Notebook with Anaconda\n",
    "\n",
    "<div class=\"alert alert-block alert-warning\">\n",
    "    <b>Learning outcomes:</b>\n",
    "    <br>\n",
    "    <ul>\n",
    "        <li>Download and install Anaconda with Jupyter Notebook.</li>\n",
    "        <li>Open your first Jupyter Notebook document.</li>\n",
    "    </ul>\n",
    "</div>\n",
    "\n",
    "![Jupyter overview](images/jupyter-overview.jpg)\n",
    "\n",
    "Anaconda is a suite of popular data science packages for Python and includes Jupyter Notebook which is an interactive notebook allowing you to create and share documents containing live code. This is a Jupyter Notebook and you'll be able to follow along learn as you go.\n",
    "\n",
    "Our first objective is to install Anaconda and create a Jupyter Notebook so that you can start this tutorial. If you want to try it in a browser (including their own tutorial), then [follow this link](https://jupyter.org/try).\n",
    "\n",
    "To install Anaconda, and all the Python packages so that you can work on your own computer:\n",
    "\n",
    "- Go to the [download page on Anaconda](https://www.anaconda.com/download/);\n",
    "\n",
    "![Download Anaconda](images/anaconda-1.jpg)\n",
    "\n",
    "- Definitely choose the **Python 3.x version** for installation. Select the appropriate package for your computer (Windows, MacOS, or Linux). If you're on Windows, you'll also need to decide on 64-bit or 32-bit. Most computers now support 64-bit but, if you're unsure, pick the 32-bit version.\n",
    "\n",
    "- After downloading, run the software and install all the defaults.\n",
    "\n",
    "- You'll see you have the option to launch Anaconda, or Jupyter Notebook. For now, we'll go straight into Jupyter Notebook.\n",
    "\n",
    "- The first page that opens in the Jupyter Notebook folder (or tree) view. Here you can see a list of files. Jupyter Notebooks end with the extension \".ipynb\"\n",
    "\n",
    "![Jupyter Notebook tree view](images/jupyter-01.png)\n",
    "\n",
    "- Create a new notebook by clicking on \"New\" and select \"Python 3\" as the kernel you wish to run.\n",
    "\n",
    "![Jupyter Notebook create new](images/jupyter-02.png)\n",
    "\n",
    "- This is a new notebook and is what you should see:\n",
    "\n",
    "![Jupyter Notebook](images/jupyter-04.png)\n",
    "\n",
    "- You can get a tour of the notebook interface from `Help -> User Interface Tour`, or you can learn some shortcuts from `Help -> Keyboard shortcuts`.\n",
    "\n",
    "![Jupyter Notebook shortcuts](images/jupyter-03.png)\n",
    "\n",
    "**And now you're ready to start the course.**\n",
    "\n",
    "[(index)](00%20-%20-%20-%20Introduction%20-%20to%20-%20Python.ipynb) | [(next)](02%20-%20-%20-%20Python%20-%20basics.ipynb)"
   ]
  },
  {
   "cell_type": "code",
   "execution_count": null,
   "metadata": {},
   "outputs": [],
   "source": []
  }
 ],
 "metadata": {
  "kernelspec": {
   "display_name": "Python 3 (ipykernel)",
   "language": "python",
   "name": "python3"
  },
  "language_info": {
   "codemirror_mode": {
    "name": "ipython",
    "version": 3
   },
   "file_extension": ".py",
   "mimetype": "text/x-python",
   "name": "python",
   "nbconvert_exporter": "python",
   "pygments_lexer": "ipython3",
   "version": "3.11.5"
  },
  "latex_envs": {
   "LaTeX_envs_menu_present": true,
   "autocomplete": true,
   "bibliofile": "biblio.bib",
   "cite_by": "apalike",
   "current_citInitial": 1,
   "eqLabelWithNumbers": true,
   "eqNumInitial": 1,
   "hotkeys": {
    "equation": "Ctrl-E",
    "itemize": "Ctrl-I"
   },
   "labels_anchors": false,
   "latex_user_defs": false,
   "report_style_numbering": false,
   "user_envs_cfg": false
  }
 },
 "nbformat": 4,
 "nbformat_minor": 4
}
