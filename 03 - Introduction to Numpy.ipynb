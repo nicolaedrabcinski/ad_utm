{
 "cells": [
  {
   "cell_type": "markdown",
   "id": "fee9d608-3fb7-427b-8c15-dd8d98c9b7ea",
   "metadata": {
    "jp-MarkdownHeadingCollapsed": true
   },
   "source": [
    "### Introduction to Numpy"
   ]
  },
  {
   "cell_type": "markdown",
   "id": "0e3a3bef-8b6e-4389-97de-56be9f0b8916",
   "metadata": {},
   "source": [
    "- most fundamental third-party package for scientific computing in Python\n",
    "- multidimensional **array** data structures\n",
    "- associated functions and methods to manipulate them\n",
    "- other third-party packages, including pandas, use NumPy arrays as backends for more specialized data structures"
   ]
  },
  {
   "cell_type": "markdown",
   "id": "e5f05be2-916a-48bb-bf4c-2be265a19b7e",
   "metadata": {},
   "source": [
    "#### Comparison to Python"
   ]
  },
  {
   "cell_type": "markdown",
   "id": "eee89c91-09a9-4496-a250-2527ab5a53c0",
   "metadata": {},
   "source": [
    "- while Python comes with several container types (`list`, `tuple`, `dict`),\n",
    "- NumPy's arrays are implemented closer to the hardware, and are therefore more **efficient** than the built-in types.\n",
    "- this is particularly true for large data, for which NumPy scales much better than Python's built-in data structures.\n",
    "- NumPy arrays also retain a suite of associated functions and methods that allow for efficient array-oriented computing."
   ]
  },
  {
   "cell_type": "markdown",
   "id": "b108a47a-3df8-462d-b345-0a0632f33665",
   "metadata": {
    "jp-MarkdownHeadingCollapsed": true
   },
   "source": [
    "### Import Convention"
   ]
  },
  {
   "cell_type": "markdown",
   "id": "933cef5b-fb0c-4aa7-a54b-071bcfa8c8d0",
   "metadata": {},
   "source": [
    "- By convention numpy is imported"
   ]
  },
  {
   "cell_type": "code",
   "execution_count": 1,
   "id": "01aa9806-05f5-4497-ac81-772f696e2883",
   "metadata": {},
   "outputs": [],
   "source": [
    "import numpy as np"
   ]
  },
  {
   "cell_type": "markdown",
   "id": "a3b099ce-9a88-4a36-92e0-8964e9c0aba4",
   "metadata": {
    "jp-MarkdownHeadingCollapsed": true
   },
   "source": [
    "### NumPy arrays and indexing"
   ]
  },
  {
   "cell_type": "markdown",
   "id": "214009ef-e708-4c79-b544-250a714c3995",
   "metadata": {},
   "source": [
    "- You can index an array in the same way you can index Python using **slice notation**"
   ]
  },
  {
   "cell_type": "code",
   "execution_count": 2,
   "id": "ecab6c54-aac6-4c11-9216-d032c2db2a9f",
   "metadata": {},
   "outputs": [],
   "source": [
    "lst = list(range(1000))\n",
    "arr = np.arange(1000)"
   ]
  },
  {
   "cell_type": "markdown",
   "id": "db734e17-7b5c-44af-baeb-5f460feb0748",
   "metadata": {},
   "source": [
    "Here's what the array looks like"
   ]
  },
  {
   "cell_type": "code",
   "execution_count": 3,
   "id": "28924d95-22c4-4c86-89cd-beab425f039f",
   "metadata": {},
   "outputs": [
    {
     "data": {
      "text/plain": [
       "array([0, 1, 2, 3, 4, 5, 6, 7, 8, 9])"
      ]
     },
     "execution_count": 3,
     "metadata": {},
     "output_type": "execute_result"
    }
   ],
   "source": [
    "arr[:10]"
   ]
  },
  {
   "cell_type": "code",
   "execution_count": 4,
   "id": "f3a8af8a-679b-4085-a6d7-0f857c941aa2",
   "metadata": {},
   "outputs": [
    {
     "data": {
      "text/plain": [
       "array([10, 11, 12, 13, 14, 15, 16, 17, 18, 19])"
      ]
     },
     "execution_count": 4,
     "metadata": {},
     "output_type": "execute_result"
    }
   ],
   "source": [
    "arr[10:20]"
   ]
  },
  {
   "cell_type": "code",
   "execution_count": 5,
   "id": "2a7da846-e420-4761-9150-ea0f1576df05",
   "metadata": {},
   "outputs": [
    {
     "data": {
      "text/plain": [
       "array([10, 12, 14, 16, 18])"
      ]
     },
     "execution_count": 5,
     "metadata": {},
     "output_type": "execute_result"
    }
   ],
   "source": [
    "arr[10:20:2]"
   ]
  },
  {
   "cell_type": "code",
   "execution_count": 6,
   "id": "0896e01c-bd06-45a5-8043-940d8dd1c1a5",
   "metadata": {},
   "outputs": [
    {
     "data": {
      "text/plain": [
       "numpy.ndarray"
      ]
     },
     "execution_count": 6,
     "metadata": {},
     "output_type": "execute_result"
    }
   ],
   "source": [
    "type(arr)"
   ]
  },
  {
   "cell_type": "code",
   "execution_count": 8,
   "id": "29f278dc-0f29-4faf-8573-a616fabafae3",
   "metadata": {},
   "outputs": [
    {
     "name": "stdout",
     "output_type": "stream",
     "text": [
      "36.9 μs ± 274 ns per loop (mean ± std. dev. of 7 runs, 10,000 loops each)\n"
     ]
    }
   ],
   "source": [
    "%%timeit \n",
    "\n",
    "[i ** 2 for i in lst]"
   ]
  },
  {
   "cell_type": "code",
   "execution_count": 9,
   "id": "cebbff14-f075-4cd6-8b96-9864ce10db58",
   "metadata": {},
   "outputs": [
    {
     "name": "stdout",
     "output_type": "stream",
     "text": [
      "914 ns ± 5.12 ns per loop (mean ± std. dev. of 7 runs, 1,000,000 loops each)\n"
     ]
    }
   ],
   "source": [
    "%%timeit\n",
    "\n",
    "arr ** 2"
   ]
  },
  {
   "cell_type": "markdown",
   "id": "55b0f05b-0f74-4c36-ace9-438162e9445b",
   "metadata": {},
   "source": [
    "We can index arrays in the same ways as lists"
   ]
  },
  {
   "cell_type": "code",
   "execution_count": 10,
   "id": "903c80de-fd5b-4767-b732-637de961811a",
   "metadata": {},
   "outputs": [
    {
     "data": {
      "text/plain": [
       "array([5, 6, 7, 8, 9])"
      ]
     },
     "execution_count": 10,
     "metadata": {},
     "output_type": "execute_result"
    }
   ],
   "source": [
    "arr[5:10]"
   ]
  },
  {
   "cell_type": "code",
   "execution_count": 11,
   "id": "ed3de14f-1b26-43b0-ab15-4c8ef598f068",
   "metadata": {},
   "outputs": [
    {
     "data": {
      "text/plain": [
       "999"
      ]
     },
     "execution_count": 11,
     "metadata": {},
     "output_type": "execute_result"
    }
   ],
   "source": [
    "arr[-1]"
   ]
  },
  {
   "cell_type": "markdown",
   "id": "5dc2b16a-621e-44df-ae3a-1be0b35f8a41",
   "metadata": {
    "jp-MarkdownHeadingCollapsed": true
   },
   "source": [
    "### Arrays vs Lists"
   ]
  },
  {
   "cell_type": "markdown",
   "id": "548d4271-0cbe-44a5-957c-2debeb32ab2b",
   "metadata": {},
   "source": [
    "- Arrays are **homogeneously typed**\n",
    "    - All elements of an array must be of the same type\n",
    "    - We see why when we think about the memory layout\n",
    "- Lists can contain elemens of arbitrary type"
   ]
  },
  {
   "cell_type": "code",
   "execution_count": 12,
   "id": "968809bc-adfe-44d3-a064-7111c298e865",
   "metadata": {},
   "outputs": [
    {
     "data": {
      "text/plain": [
       "['a', 2, (1, 3)]"
      ]
     },
     "execution_count": 12,
     "metadata": {},
     "output_type": "execute_result"
    }
   ],
   "source": [
    "['a', 2, (1, 3)]"
   ]
  },
  {
   "cell_type": "code",
   "execution_count": 13,
   "id": "8f182716-3312-481c-a693-d94077d49231",
   "metadata": {},
   "outputs": [],
   "source": [
    "lst[0] = 'some other type'"
   ]
  },
  {
   "cell_type": "code",
   "execution_count": 14,
   "id": "cd37b608-1319-4780-81ff-2415e250f380",
   "metadata": {},
   "outputs": [
    {
     "data": {
      "text/plain": [
       "['some other type', 1, 2]"
      ]
     },
     "execution_count": 14,
     "metadata": {},
     "output_type": "execute_result"
    }
   ],
   "source": [
    "lst[:3]"
   ]
  },
  {
   "cell_type": "markdown",
   "id": "f218ea7f-e57c-4933-902c-4aa632d15bce",
   "metadata": {},
   "source": [
    "- We can't do this with an array"
   ]
  },
  {
   "cell_type": "code",
   "execution_count": 15,
   "id": "13a39b1a-cdc8-491c-a554-7bd30a7fd483",
   "metadata": {},
   "outputs": [
    {
     "ename": "ValueError",
     "evalue": "invalid literal for int() with base 10: 'some other type'",
     "output_type": "error",
     "traceback": [
      "\u001b[0;31m---------------------------------------------------------------------------\u001b[0m",
      "\u001b[0;31mValueError\u001b[0m                                Traceback (most recent call last)",
      "Cell \u001b[0;32mIn[15], line 1\u001b[0m\n\u001b[0;32m----> 1\u001b[0m \u001b[43marr\u001b[49m\u001b[43m[\u001b[49m\u001b[38;5;241;43m0\u001b[39;49m\u001b[43m]\u001b[49m \u001b[38;5;241m=\u001b[39m \u001b[38;5;124m'\u001b[39m\u001b[38;5;124msome other type\u001b[39m\u001b[38;5;124m'\u001b[39m\n",
      "\u001b[0;31mValueError\u001b[0m: invalid literal for int() with base 10: 'some other type'"
     ]
    }
   ],
   "source": [
    "arr[0] = 'some other type'"
   ]
  },
  {
   "cell_type": "markdown",
   "id": "a4e57358-bd2f-4315-9a42-4463828366ef",
   "metadata": {},
   "source": [
    "- The data type is contained in the `dtype` attribute"
   ]
  },
  {
   "cell_type": "code",
   "execution_count": 16,
   "id": "6ef1a649-fd2d-4680-8167-6864410028be",
   "metadata": {},
   "outputs": [
    {
     "data": {
      "text/plain": [
       "dtype('int64')"
      ]
     },
     "execution_count": 16,
     "metadata": {},
     "output_type": "execute_result"
    }
   ],
   "source": [
    "arr.dtype"
   ]
  },
  {
   "cell_type": "markdown",
   "id": "9a5a38cd-907d-477f-b519-ef18be1f20a4",
   "metadata": {},
   "source": [
    "- The dtype is fixed\n",
    "- Other types will be cast to this type"
   ]
  },
  {
   "cell_type": "code",
   "execution_count": 17,
   "id": "ef4e5a6e-fcb7-40a9-86d9-585e07e8070e",
   "metadata": {},
   "outputs": [],
   "source": [
    "arr[0] = 1.234"
   ]
  },
  {
   "cell_type": "code",
   "execution_count": 18,
   "id": "a0983663-dcd8-4f62-9e71-100a9fa319fd",
   "metadata": {},
   "outputs": [
    {
     "data": {
      "text/plain": [
       "array([1, 1, 2, 3, 4, 5, 6, 7, 8, 9])"
      ]
     },
     "execution_count": 18,
     "metadata": {},
     "output_type": "execute_result"
    }
   ],
   "source": [
    "arr[:10]"
   ]
  },
  {
   "cell_type": "markdown",
   "id": "96e2ebe6-5c6c-46cf-8baa-7ce2cd8775fd",
   "metadata": {
    "jp-MarkdownHeadingCollapsed": true
   },
   "source": [
    "### What is an array"
   ]
  },
  {
   "cell_type": "markdown",
   "id": "a5e9bbde-5a31-4abe-b945-24cb4008537f",
   "metadata": {},
   "source": [
    "- Sometimes it's useful to peak under the hood to fix ideas\n",
    "- A block of memory with some extra unformation on how to interpret its contents"
   ]
  },
  {
   "cell_type": "code",
   "execution_count": 22,
   "id": "54edd8d0-0b9a-49ab-88a4-4674520f3627",
   "metadata": {},
   "outputs": [
    {
     "data": {
      "image/png": "[encoded data removed]",
      "text/plain": [
       "<IPython.core.display.Image object>"
      ]
     },
     "metadata": {},
     "output_type": "display_data"
    }
   ],
   "source": [
    "import requests\n",
    "from IPython.display import Image, display\n",
    "\n",
    "url = \"https://numpy.org/doc/stable/_images/threefundamental.png\"\n",
    "response = requests.get(url)\n",
    "display(Image(response.content))"
   ]
  },
  {
   "cell_type": "markdown",
   "id": "83bc8b11-e7cc-4ca1-a0f6-56ed24c6ce63",
   "metadata": {
    "jp-MarkdownHeadingCollapsed": true
   },
   "source": [
    "### Array Creation"
   ]
  },
  {
   "cell_type": "code",
   "execution_count": 23,
   "id": "f8e6494d-a553-4e2e-afd5-d1eff1af17a8",
   "metadata": {},
   "outputs": [
    {
     "data": {
      "text/plain": [
       "array([0., 0., 0., 0., 0.])"
      ]
     },
     "execution_count": 23,
     "metadata": {},
     "output_type": "execute_result"
    }
   ],
   "source": [
    "np.zeros(5, dtype=float)"
   ]
  },
  {
   "cell_type": "code",
   "execution_count": 24,
   "id": "31304dd0-241b-472c-b8b9-ecd0ce63d9f4",
   "metadata": {},
   "outputs": [
    {
     "data": {
      "text/plain": [
       "array([0, 0, 0, 0, 0])"
      ]
     },
     "execution_count": 24,
     "metadata": {},
     "output_type": "execute_result"
    }
   ],
   "source": [
    "np.zeros(5, dtype=int)"
   ]
  },
  {
   "cell_type": "code",
   "execution_count": 25,
   "id": "6ad840ff-df95-49f2-b75b-0271f9f222e9",
   "metadata": {},
   "outputs": [
    {
     "data": {
      "text/plain": [
       "array([0.+0.j, 0.+0.j, 0.+0.j, 0.+0.j, 0.+0.j])"
      ]
     },
     "execution_count": 25,
     "metadata": {},
     "output_type": "execute_result"
    }
   ],
   "source": [
    "np.zeros(5, dtype=complex)"
   ]
  },
  {
   "cell_type": "code",
   "execution_count": 26,
   "id": "0cfc17af-f204-4d35-8002-4cec11f0bb61",
   "metadata": {},
   "outputs": [
    {
     "data": {
      "text/plain": [
       "array([1., 1., 1., 1., 1.])"
      ]
     },
     "execution_count": 26,
     "metadata": {},
     "output_type": "execute_result"
    }
   ],
   "source": [
    "np.ones(5, dtype=float)"
   ]
  },
  {
   "cell_type": "markdown",
   "id": "8faa08e8-fffc-4e41-b3f3-09313e7883d5",
   "metadata": {},
   "source": [
    "- We have seen how the `arange` function generates an array for a range of integers\n",
    "- `linspace` and `logspace` functions to create linearly and logarithmically-spaces **grids** respectively, with a fixed number of points and including both ends of the specified interval:"
   ]
  },
  {
   "cell_type": "code",
   "execution_count": 27,
   "id": "3bdc954a-7339-496d-b650-9110523e39cd",
   "metadata": {},
   "outputs": [
    {
     "data": {
      "text/plain": [
       "array([0.  , 0.25, 0.5 , 0.75, 1.  ])"
      ]
     },
     "execution_count": 27,
     "metadata": {},
     "output_type": "execute_result"
    }
   ],
   "source": [
    "np.linspace(0, 1, num=5)"
   ]
  },
  {
   "cell_type": "code",
   "execution_count": 28,
   "id": "d50213ae-97d3-4343-8cd0-5405c4218a63",
   "metadata": {},
   "outputs": [
    {
     "data": {
      "text/plain": [
       "array([   10.,   100.,  1000., 10000.])"
      ]
     },
     "execution_count": 28,
     "metadata": {},
     "output_type": "execute_result"
    }
   ],
   "source": [
    "np.logspace(1, 4, num=4)"
   ]
  },
  {
   "cell_type": "markdown",
   "id": "57c50976-a182-4063-b33f-1b7f1ffc7421",
   "metadata": {
    "jp-MarkdownHeadingCollapsed": true
   },
   "source": [
    "### Random Number Generation"
   ]
  },
  {
   "cell_type": "markdown",
   "id": "e8e4b925-7473-4e3a-bb5a-e81f1ab66062",
   "metadata": {},
   "source": [
    "Finally, it is often useful to create arrays with random numbers that follow a specific distribution. The `np.random` module contains a number of functions that can be used to this effect, for example this will produce an array of 5 random samples taken from a **standard normal** distribution (0 mean and variance 1) $ X \\sim N(0, 1) $"
   ]
  },
  {
   "cell_type": "markdown",
   "id": "ac0589ac-3350-47e3-8667-b6dd24f0f106",
   "metadata": {},
   "source": [
    "$$f(x \\mid \\mu=0, \\sigma=1) = \\sqrt{\\frac{1}{2\\pi \\sigma^2}} \\exp\\left\\{ -\\frac{x^2}{2\\sigma^2} \\right\\}$$ "
   ]
  },
  {
   "cell_type": "code",
   "execution_count": 29,
   "id": "f9c80b77-0d31-4a53-925c-138b29a311de",
   "metadata": {},
   "outputs": [
    {
     "data": {
      "text/plain": [
       "array([-1.16537898,  1.33533354, -0.55272812, -2.46097932, -0.9968749 ])"
      ]
     },
     "execution_count": 29,
     "metadata": {},
     "output_type": "execute_result"
    }
   ],
   "source": [
    "np.random.randn(5)"
   ]
  },
  {
   "cell_type": "markdown",
   "id": "2c2c054a-798f-4fe7-97be-febb4df9c132",
   "metadata": {},
   "source": [
    "$X \\sim N(9, 3)$"
   ]
  },
  {
   "cell_type": "code",
   "execution_count": 31,
   "id": "10d8709b-5927-4740-837a-21fe5a78064b",
   "metadata": {},
   "outputs": [
    {
     "data": {
      "text/plain": [
       "array([11.1485981 ,  5.97096675,  7.87463146, 11.12906875,  6.135445  ,\n",
       "       12.33204264,  7.25994884,  9.98709515,  4.04611021,  5.19707967])"
      ]
     },
     "execution_count": 31,
     "metadata": {},
     "output_type": "execute_result"
    }
   ],
   "source": [
    "norm10 = np.random.normal(loc=9, scale=3, size=10)\n",
    "norm10"
   ]
  },
  {
   "cell_type": "markdown",
   "id": "dbb41621-0f6a-4154-b249-77f52eff8464",
   "metadata": {
    "jp-MarkdownHeadingCollapsed": true
   },
   "source": [
    "### Index arrays"
   ]
  },
  {
   "cell_type": "markdown",
   "id": "37163452-4955-47d6-84b2-a125ccae951d",
   "metadata": {},
   "source": [
    "- Above we showed how to index with numbers and slices\n",
    "- NumPy indexing is much more powerful that Python indexing\n",
    "- You can index with other arrays (Boolean, Integer)"
   ]
  },
  {
   "cell_type": "markdown",
   "id": "5ac51fcc-7d62-4ef7-9d92-ce4dfb00fb43",
   "metadata": {},
   "source": [
    "Boolean indexing"
   ]
  },
  {
   "cell_type": "code",
   "execution_count": 33,
   "id": "cb22f1fd-42d1-45af-85d0-66f4f8e079e1",
   "metadata": {},
   "outputs": [
    {
     "data": {
      "text/plain": [
       "array([ True, False, False,  True, False,  True, False,  True, False,\n",
       "       False])"
      ]
     },
     "execution_count": 33,
     "metadata": {},
     "output_type": "execute_result"
    }
   ],
   "source": [
    "mask = norm10 > 9\n",
    "mask"
   ]
  },
  {
   "cell_type": "code",
   "execution_count": 35,
   "id": "cd5c5799-9f59-4d6b-9628-317e36d8b3fa",
   "metadata": {},
   "outputs": [
    {
     "data": {
      "text/plain": [
       "array([11.1485981 , 11.12906875, 12.33204264,  9.98709515])"
      ]
     },
     "execution_count": 35,
     "metadata": {},
     "output_type": "execute_result"
    }
   ],
   "source": [
    "norm10[mask]"
   ]
  },
  {
   "cell_type": "markdown",
   "id": "994d4db5-f0f2-4876-b8db-8e785fd088ca",
   "metadata": {},
   "source": [
    "Integer indexing"
   ]
  },
  {
   "cell_type": "markdown",
   "id": "05df9aa0-3453-494f-98af-2939233720da",
   "metadata": {},
   "source": [
    "- Likewise you can index with integer arrays"
   ]
  },
  {
   "cell_type": "code",
   "execution_count": 34,
   "id": "f44086a0-0840-4643-bfd4-f7a920eb855d",
   "metadata": {},
   "outputs": [
    {
     "data": {
      "text/plain": [
       "array([5.97096675, 6.135445  , 7.25994884])"
      ]
     },
     "execution_count": 34,
     "metadata": {},
     "output_type": "execute_result"
    }
   ],
   "source": [
    "norm10[[1, 4, 6]]"
   ]
  },
  {
   "cell_type": "markdown",
   "id": "2ca8018c-874a-40ef-ae01-783963215419",
   "metadata": {
    "jp-MarkdownHeadingCollapsed": true
   },
   "source": [
    "### Assignment"
   ]
  },
  {
   "cell_type": "markdown",
   "id": "6d80a83b-8676-46e8-baca-286dfb353513",
   "metadata": {},
   "source": [
    "- This form of indexing is known as **fancy-indexing**\n",
    "- You can use fancy-indexing for assignment"
   ]
  },
  {
   "cell_type": "code",
   "execution_count": 36,
   "id": "7bdebb7d-2482-444d-828c-c235abda5740",
   "metadata": {},
   "outputs": [
    {
     "data": {
      "text/plain": [
       "array([0.        , 5.97096675, 7.87463146, 0.        , 6.135445  ,\n",
       "       0.        , 7.25994884, 0.        , 4.04611021, 5.19707967])"
      ]
     },
     "execution_count": 36,
     "metadata": {},
     "output_type": "execute_result"
    }
   ],
   "source": [
    "norm10[norm10 > 9] = 0\n",
    "norm10"
   ]
  },
  {
   "cell_type": "code",
   "execution_count": 37,
   "id": "07b16648-05cf-40ee-9253-c7a44ab4852f",
   "metadata": {},
   "outputs": [
    {
     "data": {
      "text/plain": [
       "array([ 0.        , 10.        ,  7.87463146,  0.        , 10.        ,\n",
       "        0.        ,  7.25994884, 10.        ,  4.04611021,  5.19707967])"
      ]
     },
     "execution_count": 37,
     "metadata": {},
     "output_type": "execute_result"
    }
   ],
   "source": [
    "norm10[[1, 4, 7]] = 10\n",
    "norm10"
   ]
  },
  {
   "cell_type": "markdown",
   "id": "1a5d8e22-cc2f-4b72-8cec-59b77667d1af",
   "metadata": {
    "jp-MarkdownHeadingCollapsed": true
   },
   "source": [
    "### Copies vs Views"
   ]
  },
  {
   "cell_type": "markdown",
   "id": "c481d43b-faa6-475a-8227-c6719188e62d",
   "metadata": {},
   "source": [
    "- This is a common **gotcha** for people new to NumPy\n",
    "- While L-value fancy-indexing in the case of assignment does not copy\n",
    "  - Just `__setitem__`\n",
    "- R-value fancy-indexing produces a copy not a view\n",
    "  - `__getitem__` followed by `__setitem__`\n",
    "- When we use slice notation to look at part of an array, it produces a **view**\n",
    "- That is, it points to the same memory of the original array"
   ]
  },
  {
   "cell_type": "code",
   "execution_count": 38,
   "id": "b74f4517-a6b4-4af0-9936-16e512015cf4",
   "metadata": {},
   "outputs": [
    {
     "data": {
      "text/plain": [
       "array([0, 1, 2, 3, 4, 5, 6, 7, 8, 9])"
      ]
     },
     "execution_count": 38,
     "metadata": {},
     "output_type": "execute_result"
    }
   ],
   "source": [
    "x = np.arange(10)\n",
    "x"
   ]
  },
  {
   "cell_type": "code",
   "execution_count": 39,
   "id": "81d4dbc8-26a9-4b82-8481-061ab594f886",
   "metadata": {},
   "outputs": [
    {
     "data": {
      "text/plain": [
       "array([0, 2, 4, 6, 8])"
      ]
     },
     "execution_count": 39,
     "metadata": {},
     "output_type": "execute_result"
    }
   ],
   "source": [
    "y = x[::2]\n",
    "y"
   ]
  },
  {
   "cell_type": "code",
   "execution_count": 40,
   "id": "eb953994-9a19-439f-a87a-531a68f11875",
   "metadata": {},
   "outputs": [
    {
     "data": {
      "text/plain": [
       "array([  0,   2,   4, 100,   8])"
      ]
     },
     "execution_count": 40,
     "metadata": {},
     "output_type": "execute_result"
    }
   ],
   "source": [
    "y[3] = 100\n",
    "y"
   ]
  },
  {
   "cell_type": "code",
   "execution_count": 41,
   "id": "598a6af5-0721-49f8-b8b6-989002fcea77",
   "metadata": {},
   "outputs": [
    {
     "data": {
      "text/plain": [
       "array([  0,   1,   2,   3,   4,   5, 100,   7,   8,   9])"
      ]
     },
     "execution_count": 41,
     "metadata": {},
     "output_type": "execute_result"
    }
   ],
   "source": [
    "x"
   ]
  },
  {
   "cell_type": "markdown",
   "id": "a57970ff-19c5-4789-ad3b-580d4a0b5469",
   "metadata": {},
   "source": [
    "- This, however, produces a **copy**\n",
    "- Operating on the copy will not affect the original array"
   ]
  },
  {
   "cell_type": "code",
   "execution_count": 42,
   "id": "b68c26f8-17db-4503-90b0-643e20d61879",
   "metadata": {},
   "outputs": [
    {
     "data": {
      "text/plain": [
       "array([ 0., 10.,  0.])"
      ]
     },
     "execution_count": 42,
     "metadata": {},
     "output_type": "execute_result"
    }
   ],
   "source": [
    "a = norm10[[0, 1, 5]]\n",
    "a"
   ]
  },
  {
   "cell_type": "code",
   "execution_count": 43,
   "id": "4debc42c-2c02-4b2d-847e-026c2ac0387d",
   "metadata": {},
   "outputs": [
    {
     "data": {
      "text/plain": [
       "array([-10., -10., -10.])"
      ]
     },
     "execution_count": 43,
     "metadata": {},
     "output_type": "execute_result"
    }
   ],
   "source": [
    "a[:] = -10\n",
    "a"
   ]
  },
  {
   "cell_type": "code",
   "execution_count": 44,
   "id": "a2ba28f5-e37b-450d-ba1e-730bf9f67628",
   "metadata": {},
   "outputs": [
    {
     "data": {
      "text/plain": [
       "array([ 0.        , 10.        ,  7.87463146,  0.        , 10.        ,\n",
       "        0.        ,  7.25994884, 10.        ,  4.04611021,  5.19707967])"
      ]
     },
     "execution_count": 44,
     "metadata": {},
     "output_type": "execute_result"
    }
   ],
   "source": [
    "norm10"
   ]
  },
  {
   "cell_type": "markdown",
   "id": "038cf882-f555-4260-a1d9-1c3d7f7bb1d5",
   "metadata": {
    "jp-MarkdownHeadingCollapsed": true
   },
   "source": [
    "### Multidimensional arrays"
   ]
  },
  {
   "cell_type": "markdown",
   "id": "04868914-3399-40f3-a73e-2459ff1c318d",
   "metadata": {},
   "source": [
    "- NumPy can create arrays of arbitrary dimensions, and all the methods illustrated in the previous section work with more than one dimension\n",
    "- For example, a list of lists can be used to initialize a two dimensional array"
   ]
  },
  {
   "cell_type": "code",
   "execution_count": 45,
   "id": "5ae91bca-48d6-47c0-a441-cf6a1442a686",
   "metadata": {},
   "outputs": [
    {
     "data": {
      "text/plain": [
       "(2, 4)"
      ]
     },
     "execution_count": 45,
     "metadata": {},
     "output_type": "execute_result"
    }
   ],
   "source": [
    "samples_list = [[632, 1638, 569, 115], [433,1130,754,555]]\n",
    "samples_array = np.array(samples_list)\n",
    "samples_array.shape"
   ]
  },
  {
   "cell_type": "code",
   "execution_count": 46,
   "id": "5fc7fc61-26a1-44ed-aa22-3fea2d488994",
   "metadata": {},
   "outputs": [
    {
     "name": "stdout",
     "output_type": "stream",
     "text": [
      "[[ 632 1638  569  115]\n",
      " [ 433 1130  754  555]]\n"
     ]
    }
   ],
   "source": [
    "print(samples_array)"
   ]
  },
  {
   "cell_type": "markdown",
   "id": "03d8f806-dafb-4598-8871-fcf928a58cce",
   "metadata": {},
   "source": [
    "With two-dimensional arrays we start seeing the convenience of NumPy data structures: while a nested list can be indexed across dimensions using consecutive `[ ]` operators, multidimensional arrays support a more natural indexing syntax with a single set of brackets and a set of comma-separated indices:"
   ]
  },
  {
   "cell_type": "code",
   "execution_count": 47,
   "id": "bc738ea3-5def-4afa-a436-4f63ebdeb9e0",
   "metadata": {},
   "outputs": [
    {
     "data": {
      "text/plain": [
       "1638"
      ]
     },
     "execution_count": 47,
     "metadata": {},
     "output_type": "execute_result"
    }
   ],
   "source": [
    "samples_list[0][1]"
   ]
  },
  {
   "cell_type": "code",
   "execution_count": 48,
   "id": "393d28fc-bca6-4db5-8f1c-42d4c06af728",
   "metadata": {},
   "outputs": [
    {
     "data": {
      "text/plain": [
       "1638"
      ]
     },
     "execution_count": 48,
     "metadata": {},
     "output_type": "execute_result"
    }
   ],
   "source": [
    "samples_array[0,1]"
   ]
  },
  {
   "cell_type": "markdown",
   "id": "22274ff5-a6fd-4b15-9911-b20ad4612f01",
   "metadata": {},
   "source": [
    "Most of the array creation functions listed above can be passed multidimensional shapes. For example:"
   ]
  },
  {
   "cell_type": "code",
   "execution_count": 49,
   "id": "fdcc0f0d-7442-4535-bfbb-37e324486c17",
   "metadata": {},
   "outputs": [
    {
     "data": {
      "text/plain": [
       "array([[0., 0., 0.],\n",
       "       [0., 0., 0.]])"
      ]
     },
     "execution_count": 49,
     "metadata": {},
     "output_type": "execute_result"
    }
   ],
   "source": [
    "np.zeros((2,3))"
   ]
  },
  {
   "cell_type": "code",
   "execution_count": 50,
   "id": "50c47d10-5fda-44b9-9bc8-6f3510264266",
   "metadata": {},
   "outputs": [
    {
     "data": {
      "text/plain": [
       "array([[16.37338767,  9.33012036, 12.57738669, 10.94306438],\n",
       "       [ 7.68391663, 11.95314811, 10.07662561, 12.65658927]])"
      ]
     },
     "execution_count": 50,
     "metadata": {},
     "output_type": "execute_result"
    }
   ],
   "source": [
    "np.random.normal(10, 3, size=(2, 4))"
   ]
  },
  {
   "cell_type": "markdown",
   "id": "81ee54ad-d822-40c0-8544-b9d3800702e3",
   "metadata": {},
   "source": [
    "In fact, an array can be **reshaped** at any time, as long as the total number of elements is unchanged. For example, if we want a 2x4 array with numbers increasing from 0, the easiest way to create it is via the array's `reshape` method."
   ]
  },
  {
   "cell_type": "code",
   "execution_count": 51,
   "id": "5a9cf210-5226-4012-b36d-44c3cfa21e19",
   "metadata": {},
   "outputs": [
    {
     "data": {
      "text/plain": [
       "array([[0, 1, 2, 3],\n",
       "       [4, 5, 6, 7]])"
      ]
     },
     "execution_count": 51,
     "metadata": {},
     "output_type": "execute_result"
    }
   ],
   "source": [
    "arr = np.arange(8).reshape(2,4)\n",
    "arr"
   ]
  },
  {
   "cell_type": "markdown",
   "id": "48d657ef-3b02-41a4-8090-19bc09330113",
   "metadata": {},
   "source": [
    "With multidimensional arrays, you can also use slices, and you can mix and match slices and single indices in the different dimensions (using the same array as above):"
   ]
  },
  {
   "cell_type": "code",
   "execution_count": 52,
   "id": "f172eb0a-782a-494b-9647-5fc44fa1e93e",
   "metadata": {},
   "outputs": [
    {
     "data": {
      "text/plain": [
       "array([6, 7])"
      ]
     },
     "execution_count": 52,
     "metadata": {},
     "output_type": "execute_result"
    }
   ],
   "source": [
    "arr[1, 2:4]"
   ]
  },
  {
   "cell_type": "code",
   "execution_count": 53,
   "id": "c6fe71cf-ecc5-4a8e-b11e-0d46b1d0f8e3",
   "metadata": {},
   "outputs": [
    {
     "data": {
      "text/plain": [
       "array([2, 6])"
      ]
     },
     "execution_count": 53,
     "metadata": {},
     "output_type": "execute_result"
    }
   ],
   "source": [
    "arr[:, 2]"
   ]
  },
  {
   "cell_type": "markdown",
   "id": "55255abf-9799-46ab-b8dc-2b80f9571d45",
   "metadata": {},
   "source": [
    "If you only provide one index, then you will get the corresponding row."
   ]
  },
  {
   "cell_type": "code",
   "execution_count": 54,
   "id": "b1e7102e-a0a5-4f3a-a1ea-b059ec4de7c0",
   "metadata": {},
   "outputs": [
    {
     "data": {
      "text/plain": [
       "array([4, 5, 6, 7])"
      ]
     },
     "execution_count": 54,
     "metadata": {},
     "output_type": "execute_result"
    }
   ],
   "source": [
    "arr[1]"
   ]
  },
  {
   "cell_type": "markdown",
   "id": "cdb2040a-4e2a-4710-9b94-3f2e825ea292",
   "metadata": {},
   "source": [
    "Now that we have seen how to create arrays with more than one dimension, it's a good idea to look at some of the most useful **properties and methods** that arrays have. The following provide basic information about the size, shape and data in the array:"
   ]
  },
  {
   "cell_type": "code",
   "execution_count": 57,
   "id": "937974c5-81f9-4df3-8f18-933c546f630e",
   "metadata": {},
   "outputs": [
    {
     "name": "stdout",
     "output_type": "stream",
     "text": [
      "Data type                : int64\n",
      "Total number of elements : 8\n",
      "Number of dimensions     : 2\n",
      "Shape (dimensionality)   : (2, 4)\n",
      "Memory used (in bytes)   : 64\n"
     ]
    }
   ],
   "source": [
    "print('Data type                :', samples_array.dtype)\n",
    "print('Total number of elements :', samples_array.size)\n",
    "print('Number of dimensions     :', samples_array.ndim)\n",
    "print('Shape (dimensionality)   :', samples_array.shape)\n",
    "print('Memory used (in bytes)   :', samples_array.nbytes)"
   ]
  },
  {
   "cell_type": "markdown",
   "id": "84212014-3f22-4c2e-8188-705825fb6ad5",
   "metadata": {},
   "source": [
    "Arrays also have many useful methods, some especially useful ones are:"
   ]
  },
  {
   "cell_type": "code",
   "execution_count": 58,
   "id": "8bc3660c-043e-4e50-ae23-71a003eb0d4b",
   "metadata": {},
   "outputs": [
    {
     "name": "stdout",
     "output_type": "stream",
     "text": [
      "Minimum and maximum             : 115 1638\n",
      "Sum, mean and standard deviation: 5826 728.25 435.5455630585622\n"
     ]
    }
   ],
   "source": [
    "print('Minimum and maximum             :', samples_array.min(), samples_array.max())\n",
    "print('Sum, mean and standard deviation:', samples_array.sum(), samples_array.mean(), samples_array.std())"
   ]
  },
  {
   "cell_type": "markdown",
   "id": "ffabfc35-23f1-4035-9087-f359c3ea1682",
   "metadata": {},
   "source": [
    "For these methods, the above operations area all computed on all the elements of the array. But for a multidimensional array, it's possible to do the computation along a single dimension, by passing the `axis` parameter; for example:"
   ]
  },
  {
   "cell_type": "code",
   "execution_count": 59,
   "id": "7a86f7fd-0768-4df3-b8ff-be802cec6cb3",
   "metadata": {},
   "outputs": [
    {
     "data": {
      "text/plain": [
       "array([1065, 2768, 1323,  670])"
      ]
     },
     "execution_count": 59,
     "metadata": {},
     "output_type": "execute_result"
    }
   ],
   "source": [
    "samples_array.sum(axis=0)"
   ]
  },
  {
   "cell_type": "code",
   "execution_count": 60,
   "id": "38958817-bbe3-4b64-9b6c-51cf05e25135",
   "metadata": {},
   "outputs": [
    {
     "data": {
      "text/plain": [
       "array([2954, 2872])"
      ]
     },
     "execution_count": 60,
     "metadata": {},
     "output_type": "execute_result"
    }
   ],
   "source": [
    "samples_array.sum(axis=1)"
   ]
  },
  {
   "cell_type": "markdown",
   "id": "cb021e7a-325c-4372-ba1e-6de94085275a",
   "metadata": {},
   "source": [
    "- Notice that summing over the rows returned a 1d array above\n",
    "- If you want to preserve the dimensions use the `keepdims` keyword"
   ]
  },
  {
   "cell_type": "code",
   "execution_count": 62,
   "id": "a54cf891-4482-470d-95bd-e5b7de916f96",
   "metadata": {},
   "outputs": [
    {
     "data": {
      "text/plain": [
       "array([[2954],\n",
       "       [2872]])"
      ]
     },
     "execution_count": 62,
     "metadata": {},
     "output_type": "execute_result"
    }
   ],
   "source": [
    "samples_array.sum(axis=1, keepdims=True)"
   ]
  },
  {
   "cell_type": "markdown",
   "id": "5a3a635a-442e-49ff-a923-e699f0c1589e",
   "metadata": {},
   "source": [
    "Another widely used property of arrays is the `.T` attribute, which allows you to access the transpose of the array:"
   ]
  },
  {
   "cell_type": "code",
   "execution_count": 63,
   "id": "5d9a00ed-dcd4-4344-ae07-e508a51fe93b",
   "metadata": {},
   "outputs": [
    {
     "data": {
      "text/plain": [
       "array([[ 632,  433],\n",
       "       [1638, 1130],\n",
       "       [ 569,  754],\n",
       "       [ 115,  555]])"
      ]
     },
     "execution_count": 63,
     "metadata": {},
     "output_type": "execute_result"
    }
   ],
   "source": [
    "samples_array.T"
   ]
  },
  {
   "cell_type": "markdown",
   "id": "b4e0b18a-ca58-409a-837a-03d3b50cb371",
   "metadata": {},
   "source": [
    "There is a wide variety of methods and properties of arrays."
   ]
  },
  {
   "cell_type": "code",
   "execution_count": 64,
   "id": "a9568bfa-4c32-4af9-89c7-4df51fe1edda",
   "metadata": {},
   "outputs": [
    {
     "data": {
      "text/plain": [
       "['T',\n",
       " 'all',\n",
       " 'any',\n",
       " 'argmax',\n",
       " 'argmin',\n",
       " 'argpartition',\n",
       " 'argsort',\n",
       " 'astype',\n",
       " 'base',\n",
       " 'byteswap',\n",
       " 'choose',\n",
       " 'clip',\n",
       " 'compress',\n",
       " 'conj',\n",
       " 'conjugate',\n",
       " 'copy',\n",
       " 'ctypes',\n",
       " 'cumprod',\n",
       " 'cumsum',\n",
       " 'data',\n",
       " 'diagonal',\n",
       " 'dot',\n",
       " 'dtype',\n",
       " 'dump',\n",
       " 'dumps',\n",
       " 'fill',\n",
       " 'flags',\n",
       " 'flat',\n",
       " 'flatten',\n",
       " 'getfield',\n",
       " 'imag',\n",
       " 'item',\n",
       " 'itemset',\n",
       " 'itemsize',\n",
       " 'max',\n",
       " 'mean',\n",
       " 'min',\n",
       " 'nbytes',\n",
       " 'ndim',\n",
       " 'newbyteorder',\n",
       " 'nonzero',\n",
       " 'partition',\n",
       " 'prod',\n",
       " 'ptp',\n",
       " 'put',\n",
       " 'ravel',\n",
       " 'real',\n",
       " 'repeat',\n",
       " 'reshape',\n",
       " 'resize',\n",
       " 'round',\n",
       " 'searchsorted',\n",
       " 'setfield',\n",
       " 'setflags',\n",
       " 'shape',\n",
       " 'size',\n",
       " 'sort',\n",
       " 'squeeze',\n",
       " 'std',\n",
       " 'strides',\n",
       " 'sum',\n",
       " 'swapaxes',\n",
       " 'take',\n",
       " 'tobytes',\n",
       " 'tofile',\n",
       " 'tolist',\n",
       " 'tostring',\n",
       " 'trace',\n",
       " 'transpose',\n",
       " 'var',\n",
       " 'view']"
      ]
     },
     "execution_count": 64,
     "metadata": {},
     "output_type": "execute_result"
    }
   ],
   "source": [
    "[attr for attr in dir(samples_array) if not attr.startswith('__')]"
   ]
  },
  {
   "cell_type": "markdown",
   "id": "959e73a4-4e97-43f5-9b17-d57b607fea5a",
   "metadata": {
    "jp-MarkdownHeadingCollapsed": true
   },
   "source": [
    "### What is a Multi-Dimensional Array"
   ]
  },
  {
   "cell_type": "markdown",
   "id": "9a8afe00-7048-4b64-a1d9-e44d7c3b8717",
   "metadata": {},
   "source": [
    "- Memory is a linear address space\n",
    "- By adding information on `shape` and `strides` we can interpret bytes laid out linearly in memory as a multidimensional object"
   ]
  },
  {
   "cell_type": "code",
   "execution_count": 66,
   "id": "67cde9e5-5b50-46b7-b6ec-cebfd825e89a",
   "metadata": {},
   "outputs": [],
   "source": [
    "# Image('https://ipython-books.github.io/images/layout.png')"
   ]
  },
  {
   "cell_type": "markdown",
   "id": "450c6eea-8aec-46d6-99c1-6e5907c735ee",
   "metadata": {
    "jp-MarkdownHeadingCollapsed": true
   },
   "source": [
    "### Array Operations, Methods, and Functions"
   ]
  },
  {
   "cell_type": "code",
   "execution_count": 68,
   "id": "1f61bdf1-1145-40c2-a438-d4be46f58921",
   "metadata": {},
   "outputs": [
    {
     "data": {
      "text/plain": [
       "array([1065, 2768, 1323,  670])"
      ]
     },
     "execution_count": 68,
     "metadata": {},
     "output_type": "execute_result"
    }
   ],
   "source": [
    "sample1 = np.array([632, 1638, 569, 115])\n",
    "sample2 = np.array([433, 1130, 754, 555])\n",
    "\n",
    "sample_sum = sample1 + sample2\n",
    "sample_sum"
   ]
  },
  {
   "cell_type": "code",
   "execution_count": 69,
   "id": "b64dc436-08d7-44ac-9bca-a2086dbda4c0",
   "metadata": {},
   "outputs": [
    {
     "data": {
      "text/plain": [
       "array([ 632, 1638,  569,  115])"
      ]
     },
     "execution_count": 69,
     "metadata": {},
     "output_type": "execute_result"
    }
   ],
   "source": [
    "np.array([632, 1638, 569, 115])"
   ]
  },
  {
   "cell_type": "markdown",
   "id": "a88f3055-32b2-4d15-8c26-6694fd84c9ed",
   "metadata": {},
   "source": [
    "This includes the multiplication operator -- it does not perform matrix multiplication, as is the case in Matlab, for example:"
   ]
  },
  {
   "cell_type": "code",
   "execution_count": 70,
   "id": "b6653095-7a56-44c9-8ea1-d4e66f423cc8",
   "metadata": {},
   "outputs": [
    {
     "name": "stdout",
     "output_type": "stream",
     "text": [
      "[ 632 1638  569  115] X [ 433 1130  754  555] = [ 273656 1850940  429026   63825]\n"
     ]
    }
   ],
   "source": [
    "print('{0} X {1} = {2}'.format(sample1, sample2, sample1 * sample2))"
   ]
  },
  {
   "cell_type": "markdown",
   "id": "4f2068a7-867f-403e-81f6-a98189a5c067",
   "metadata": {},
   "source": [
    "In Python 3.5, you can use the `@` operator to get the inner product (or matrix multiplication) (!)"
   ]
  },
  {
   "cell_type": "code",
   "execution_count": 71,
   "id": "65289f11-5a07-4545-bd64-3ad2091185bc",
   "metadata": {},
   "outputs": [
    {
     "name": "stdout",
     "output_type": "stream",
     "text": [
      "[ 632 1638  569  115] . [ 433 1130  754  555] = 2617447\n"
     ]
    }
   ],
   "source": [
    "print('{0} . {1} = {2}'.format(sample1, sample2, sample1 @ sample2))"
   ]
  },
  {
   "cell_type": "markdown",
   "id": "6bd46eff-d333-4bab-b310-2192060e8c8e",
   "metadata": {},
   "source": [
    "- This implies that the dimension of the arrays for each operation must match in size,\n",
    "- NumPy will **broadcast** dimensions when possible\n",
    "- For example, suppose that you want to add the number 1.5 to each element arr1\n",
    "- We achieve this by **broadcasting**"
   ]
  },
  {
   "cell_type": "code",
   "execution_count": 72,
   "id": "b7dad1cf-cfe5-4b9a-b8b2-e49aa641a2dd",
   "metadata": {},
   "outputs": [
    {
     "data": {
      "text/plain": [
       "array([ 633.5, 1639.5,  570.5,  116.5])"
      ]
     },
     "execution_count": 72,
     "metadata": {},
     "output_type": "execute_result"
    }
   ],
   "source": [
    "sample1 + 1.5"
   ]
  },
  {
   "cell_type": "markdown",
   "id": "af0aa21b-3816-4a6e-86c1-5bc85241cb88",
   "metadata": {},
   "source": [
    "In this case, numpy looked at both operands and saw that the first was a one-dimensional array of length 4 and the second was a scalar, considered a zero-dimensional object. The broadcasting rules allow NumPy to:\n",
    "\n",
    "- Create new array of length 1\n",
    "- Extend the array to match the size of the corresponding array\n",
    "  \n",
    "So in the above example, the scalar 1.5 is effectively cast to a 1-dimensional array of length 1, then stretched to length 4 to match the dimension of arr1. After this, element-wise addition can proceed as now both operands are one-dimensional arrays of length 4.\n",
    "\n",
    "This broadcasting behavior is powerful, especially because when NumPy broadcasts to create new dimensions or to stretch existing ones, it doesn't actually replicate the data. In the example above the operation is carried as if the 1.5 was a 1-d array with 1.5 in all of its entries, but no actual array was ever created. This saves memory and improves the performance of operations.\n",
    "\n",
    "When broadcasting, NumPy compares the sizes of each dimension in each operand. It starts with the trailing dimensions, working forward and creating dimensions as needed to accomodate the operation. Two dimensions are considered compatible for operation when:\n",
    "\n",
    "- They are equal in size\n",
    "- One is scalar (or size 1)\n",
    "\n",
    "If these conditions are not met, an exception is thrown, indicating that the arrays have incompatible shapes."
   ]
  },
  {
   "cell_type": "code",
   "execution_count": 73,
   "id": "f4f7cbbf-94d5-422f-9f72-4d03499f10b7",
   "metadata": {},
   "outputs": [
    {
     "ename": "ValueError",
     "evalue": "operands could not be broadcast together with shapes (4,) (2,) ",
     "output_type": "error",
     "traceback": [
      "\u001b[0;31m---------------------------------------------------------------------------\u001b[0m",
      "\u001b[0;31mValueError\u001b[0m                                Traceback (most recent call last)",
      "Cell \u001b[0;32mIn[73], line 1\u001b[0m\n\u001b[0;32m----> 1\u001b[0m \u001b[43msample1\u001b[49m\u001b[43m \u001b[49m\u001b[38;5;241;43m+\u001b[39;49m\u001b[43m \u001b[49m\u001b[43mnp\u001b[49m\u001b[38;5;241;43m.\u001b[39;49m\u001b[43marray\u001b[49m\u001b[43m(\u001b[49m\u001b[43m[\u001b[49m\u001b[38;5;241;43m7\u001b[39;49m\u001b[43m,\u001b[49m\u001b[38;5;241;43m8\u001b[39;49m\u001b[43m]\u001b[49m\u001b[43m)\u001b[49m\n",
      "\u001b[0;31mValueError\u001b[0m: operands could not be broadcast together with shapes (4,) (2,) "
     ]
    }
   ],
   "source": [
    "sample1 + np.array([7,8])"
   ]
  },
  {
   "cell_type": "code",
   "execution_count": 74,
   "id": "bd41b9b5-e304-4717-8f04-d76e9ac0cb8c",
   "metadata": {},
   "outputs": [],
   "source": [
    "b = np.array([10, 20, 30, 40])\n",
    "\n",
    "bcast_sum = sample1 + b"
   ]
  },
  {
   "cell_type": "code",
   "execution_count": 75,
   "id": "0184bb8f-f160-4142-ab43-4522e6afbf86",
   "metadata": {},
   "outputs": [
    {
     "name": "stdout",
     "output_type": "stream",
     "text": [
      "[ 632 1638  569  115]\n",
      "\n",
      "+ [10 20 30 40]\n",
      "---------------------\n",
      "[ 642 1658  599  155]\n"
     ]
    }
   ],
   "source": [
    "print('{0}\\n\\n+ {1}\\n{2}\\n{3}'.format(sample1, b, '-'*21, bcast_sum))"
   ]
  },
  {
   "cell_type": "code",
   "execution_count": 76,
   "id": "62ee8f30-6d9a-4eeb-82e9-1e08fc2bebee",
   "metadata": {},
   "outputs": [
    {
     "ename": "ValueError",
     "evalue": "operands could not be broadcast together with shapes (4,) (2,) ",
     "output_type": "error",
     "traceback": [
      "\u001b[0;31m---------------------------------------------------------------------------\u001b[0m",
      "\u001b[0;31mValueError\u001b[0m                                Traceback (most recent call last)",
      "Cell \u001b[0;32mIn[76], line 2\u001b[0m\n\u001b[1;32m      1\u001b[0m c \u001b[38;5;241m=\u001b[39m np\u001b[38;5;241m.\u001b[39marray([\u001b[38;5;241m-\u001b[39m\u001b[38;5;241m100\u001b[39m, \u001b[38;5;241m100\u001b[39m])\n\u001b[0;32m----> 2\u001b[0m \u001b[43msample1\u001b[49m\u001b[43m \u001b[49m\u001b[38;5;241;43m+\u001b[39;49m\u001b[43m \u001b[49m\u001b[43mc\u001b[49m\n",
      "\u001b[0;31mValueError\u001b[0m: operands could not be broadcast together with shapes (4,) (2,) "
     ]
    }
   ],
   "source": [
    "c = np.array([-100, 100])\n",
    "sample1 + c"
   ]
  },
  {
   "cell_type": "markdown",
   "id": "fe74e432-4759-4669-8ba8-c1930ffdf5fb",
   "metadata": {},
   "source": [
    "Remember that matching begins at the **trailing** dimensions. Here, `c` would need to have a trailing dimension of 1 for the broadcasting to work. We can augment arrays with dimensions on the fly, by indexing it with a np.newaxis object, which adds an \"empty\" dimension:"
   ]
  },
  {
   "cell_type": "code",
   "execution_count": 77,
   "id": "87f496dc-7e0e-4770-ada6-1e478ca2ba2f",
   "metadata": {},
   "outputs": [
    {
     "data": {
      "text/plain": [
       "array([[-100],\n",
       "       [ 100]])"
      ]
     },
     "execution_count": 77,
     "metadata": {},
     "output_type": "execute_result"
    }
   ],
   "source": [
    "cplus = c[:, np.newaxis]\n",
    "cplus"
   ]
  },
  {
   "cell_type": "code",
   "execution_count": 78,
   "id": "ceed5e18-0582-47e7-8e0c-af877d0f09ba",
   "metadata": {},
   "outputs": [
    {
     "data": {
      "text/plain": [
       "(2, 1)"
      ]
     },
     "execution_count": 78,
     "metadata": {},
     "output_type": "execute_result"
    }
   ],
   "source": [
    "cplus.shape"
   ]
  },
  {
   "cell_type": "code",
   "execution_count": 79,
   "id": "e55ef68d-c4c3-4aea-b322-c560d3beb18a",
   "metadata": {},
   "outputs": [
    {
     "data": {
      "text/plain": [
       "array([[ 532, 1538,  469,   15],\n",
       "       [ 732, 1738,  669,  215]])"
      ]
     },
     "execution_count": 79,
     "metadata": {},
     "output_type": "execute_result"
    }
   ],
   "source": [
    "sample1 + cplus"
   ]
  },
  {
   "cell_type": "code",
   "execution_count": 80,
   "id": "f426395f-6d1d-4a0f-9f93-49f001131a98",
   "metadata": {},
   "outputs": [
    {
     "data": {
      "text/plain": [
       "array([[ 532,  732],\n",
       "       [1538, 1738],\n",
       "       [ 469,  669],\n",
       "       [  15,  215]])"
      ]
     },
     "execution_count": 80,
     "metadata": {},
     "output_type": "execute_result"
    }
   ],
   "source": [
    "sample1[:, np.newaxis] + c"
   ]
  },
  {
   "cell_type": "markdown",
   "id": "ad38ede1-c32d-4588-be00-680a6b1e74b3",
   "metadata": {
    "jp-MarkdownHeadingCollapsed": true
   },
   "source": [
    "### What Else"
   ]
  },
  {
   "cell_type": "markdown",
   "id": "52532dea-4934-4466-98b7-a0c0c0c65cd8",
   "metadata": {},
   "source": [
    "- NumPy provides much more functionality than what we covered here\n",
    "- For example, facilities for **linear algebra**, **FFTs**, **polynomials**, and **unit testing** for floating point"
   ]
  },
  {
   "cell_type": "code",
   "execution_count": null,
   "id": "d2a484b5-4c45-4b7b-b7e1-2426e3777ceb",
   "metadata": {},
   "outputs": [],
   "source": []
  }
 ],
 "metadata": {
  "kernelspec": {
   "display_name": "Python 3 (ipykernel)",
   "language": "python",
   "name": "python3"
  },
  "language_info": {
   "codemirror_mode": {
    "name": "ipython",
    "version": 3
   },
   "file_extension": ".py",
   "mimetype": "text/x-python",
   "name": "python",
   "nbconvert_exporter": "python",
   "pygments_lexer": "ipython3",
   "version": "3.11.5"
  }
 },
 "nbformat": 4,
 "nbformat_minor": 5
}
